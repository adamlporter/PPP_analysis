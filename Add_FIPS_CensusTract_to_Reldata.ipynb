{
 "cells": [
  {
   "attachments": {},
   "cell_type": "markdown",
   "metadata": {},
   "source": [
    "There were 122K PPP records that had NAICS Code = 813110 (religious businesses).\n",
    "\n",
    "These were geocoded by Google, to add lat/long and county name to them.\n",
    "\n",
    "This notebook will take these records and add:\n",
    "1. Census tract numbers\n",
    "1. FIPS numbers\n",
    "1. Congressional Districts\n",
    "\n",
    "The result will be saved as a CSV file."
   ]
  },
  {
   "cell_type": "code",
   "execution_count": 80,
   "metadata": {},
   "outputs": [],
   "source": [
    "import folium\n",
    "import geopandas as gpd\n",
    "import pandas as pd"
   ]
  },
  {
   "cell_type": "code",
   "execution_count": 81,
   "metadata": {},
   "outputs": [],
   "source": [
    "# to geocode the data with Google, I broke the file into 24 smaller chunks, each saved as a JSON file.\n",
    "# the following lines read the JSONs and create the df\n",
    "import glob\n",
    "workDir = '/home/alp/Google Drive/Python/analysis/PPP_analysis/'\n",
    "\n",
    "file_names = sorted(glob.glob(workDir+'*.done'))\n",
    "firstFile = 're_df_chunk0.json.done'\n",
    "df = pd.read_json(f\"{workDir}{firstFile}\")\n",
    "\n",
    "for file in file_names:\n",
    "    oldDF = df\n",
    "    # print(file)\n",
    "    if firstFile not in file:\n",
    "        newDF = pd.read_json(file)\n",
    "        df = pd.concat([oldDF,newDF])"
   ]
  },
  {
   "cell_type": "code",
   "execution_count": 82,
   "metadata": {},
   "outputs": [
    {
     "data": {
      "text/html": [
       "<div>\n",
       "<style scoped>\n",
       "    .dataframe tbody tr th:only-of-type {\n",
       "        vertical-align: middle;\n",
       "    }\n",
       "\n",
       "    .dataframe tbody tr th {\n",
       "        vertical-align: top;\n",
       "    }\n",
       "\n",
       "    .dataframe thead th {\n",
       "        text-align: right;\n",
       "    }\n",
       "</style>\n",
       "<table border=\"1\" class=\"dataframe\">\n",
       "  <thead>\n",
       "    <tr style=\"text-align: right;\">\n",
       "      <th></th>\n",
       "      <th>LoanNumber</th>\n",
       "      <th>BorrowerName</th>\n",
       "      <th>BorrowerAddress</th>\n",
       "      <th>BorrowerCity</th>\n",
       "      <th>BorrowerState</th>\n",
       "      <th>lat</th>\n",
       "      <th>lng</th>\n",
       "      <th>county</th>\n",
       "      <th>BorrowerZip</th>\n",
       "      <th>CurrentApprovalAmount</th>\n",
       "      <th>JobsReported</th>\n",
       "      <th>NAICSCode</th>\n",
       "      <th>Race</th>\n",
       "      <th>Ethnicity</th>\n",
       "      <th>BusinessType</th>\n",
       "      <th>ForgivenessAmount</th>\n",
       "    </tr>\n",
       "  </thead>\n",
       "  <tbody>\n",
       "    <tr>\n",
       "      <th>0</th>\n",
       "      <td>9794577700</td>\n",
       "      <td>FRUIT COVE BAPTIST CHURCH OF JACKSONVILLE FL INC</td>\n",
       "      <td>501 State Road 13</td>\n",
       "      <td>Saint Johns</td>\n",
       "      <td>None</td>\n",
       "      <td>30.116637</td>\n",
       "      <td>-81.625214</td>\n",
       "      <td>St. Johns County</td>\n",
       "      <td>32259-2832</td>\n",
       "      <td>289765.00</td>\n",
       "      <td>89.0</td>\n",
       "      <td>813110</td>\n",
       "      <td>Unanswered</td>\n",
       "      <td>Unknown/NotStated</td>\n",
       "      <td>Non-Profit Organization</td>\n",
       "      <td>291741.75</td>\n",
       "    </tr>\n",
       "    <tr>\n",
       "      <th>1</th>\n",
       "      <td>8414257104</td>\n",
       "      <td>CORPORATION OF THE CATHOLIC ARCHBISHOP OF ANCH...</td>\n",
       "      <td>225 Cordova Street</td>\n",
       "      <td>ANCHORAGE</td>\n",
       "      <td>AK</td>\n",
       "      <td>61.220191</td>\n",
       "      <td>-149.878792</td>\n",
       "      <td>Anchorage Municipality</td>\n",
       "      <td>99501</td>\n",
       "      <td>1643548.82</td>\n",
       "      <td>214.0</td>\n",
       "      <td>813110</td>\n",
       "      <td>Unanswered</td>\n",
       "      <td>Unknown/NotStated</td>\n",
       "      <td>Non-Profit Organization</td>\n",
       "      <td>1660524.65</td>\n",
       "    </tr>\n",
       "    <tr>\n",
       "      <th>2</th>\n",
       "      <td>9828357104</td>\n",
       "      <td>ANCHORAGE BAPTIST TEMPLE, INC.</td>\n",
       "      <td>6401 E Northern Lights Blvd</td>\n",
       "      <td>ANCHORAGE</td>\n",
       "      <td>AK</td>\n",
       "      <td>61.196319</td>\n",
       "      <td>-149.760805</td>\n",
       "      <td>Anchorage Municipality</td>\n",
       "      <td>99504-3312</td>\n",
       "      <td>961962.29</td>\n",
       "      <td>166.0</td>\n",
       "      <td>813110</td>\n",
       "      <td>Unanswered</td>\n",
       "      <td>Unknown/NotStated</td>\n",
       "      <td>Non-Profit Organization</td>\n",
       "      <td>969895.18</td>\n",
       "    </tr>\n",
       "  </tbody>\n",
       "</table>\n",
       "</div>"
      ],
      "text/plain": [
       "   LoanNumber                                       BorrowerName  \\\n",
       "0  9794577700   FRUIT COVE BAPTIST CHURCH OF JACKSONVILLE FL INC   \n",
       "1  8414257104  CORPORATION OF THE CATHOLIC ARCHBISHOP OF ANCH...   \n",
       "2  9828357104                     ANCHORAGE BAPTIST TEMPLE, INC.   \n",
       "\n",
       "               BorrowerAddress BorrowerCity BorrowerState        lat  \\\n",
       "0            501 State Road 13  Saint Johns          None  30.116637   \n",
       "1           225 Cordova Street    ANCHORAGE            AK  61.220191   \n",
       "2  6401 E Northern Lights Blvd    ANCHORAGE            AK  61.196319   \n",
       "\n",
       "          lng                  county BorrowerZip  CurrentApprovalAmount  \\\n",
       "0  -81.625214        St. Johns County  32259-2832              289765.00   \n",
       "1 -149.878792  Anchorage Municipality       99501             1643548.82   \n",
       "2 -149.760805  Anchorage Municipality  99504-3312              961962.29   \n",
       "\n",
       "   JobsReported  NAICSCode        Race          Ethnicity  \\\n",
       "0          89.0     813110  Unanswered  Unknown/NotStated   \n",
       "1         214.0     813110  Unanswered  Unknown/NotStated   \n",
       "2         166.0     813110  Unanswered  Unknown/NotStated   \n",
       "\n",
       "              BusinessType  ForgivenessAmount  \n",
       "0  Non-Profit Organization          291741.75  \n",
       "1  Non-Profit Organization         1660524.65  \n",
       "2  Non-Profit Organization          969895.18  "
      ]
     },
     "execution_count": 82,
     "metadata": {},
     "output_type": "execute_result"
    }
   ],
   "source": [
    "df.head(3)"
   ]
  },
  {
   "attachments": {},
   "cell_type": "markdown",
   "metadata": {},
   "source": [
    "To add the new datafields, we will be doing a join between this df (with religion businesses) and the GeoPandasDFs with census tracts and FIPS data.\n",
    "\n",
    "To do this, we will use the GeoPandas .sjoin function to look at each lat/long point in the religion df and match it to the different regions defined in the other DFs. That is, they have a \"geometry\" field that defines a geographic region; GeoPandas allows us to figure out which \"geometry\" contains the point. We can use this to add fields from the other tables to the Religion table.\n",
    "\n",
    "Steps:\n",
    "1. Create a POINTS column with geopandas point data using the geo-encoding standard\n",
    "1. Convert the religion df to a geopandas df\n",
    "1. Load in the Census tract data, which we will use to add the tract number and the FIPS number"
   ]
  },
  {
   "cell_type": "code",
   "execution_count": 83,
   "metadata": {},
   "outputs": [
    {
     "data": {
      "text/plain": [
       "<Geographic 2D CRS: EPSG:4326>\n",
       "Name: WGS 84\n",
       "Axis Info [ellipsoidal]:\n",
       "- Lat[north]: Geodetic latitude (degree)\n",
       "- Lon[east]: Geodetic longitude (degree)\n",
       "Area of Use:\n",
       "- name: World.\n",
       "- bounds: (-180.0, -90.0, 180.0, 90.0)\n",
       "Datum: World Geodetic System 1984 ensemble\n",
       "- Ellipsoid: WGS 84\n",
       "- Prime Meridian: Greenwich"
      ]
     },
     "execution_count": 83,
     "metadata": {},
     "output_type": "execute_result"
    }
   ],
   "source": [
    "df['points'] = gpd.points_from_xy(df.lng, df.lat,crs=\"EPSG:4326\")\n",
    "gdf = gpd.GeoDataFrame(data=df,geometry='points')\n",
    "gdf.crs\n"
   ]
  },
  {
   "attachments": {},
   "cell_type": "markdown",
   "metadata": {},
   "source": [
    "Now we will \n",
    "1. get the census tract information\n",
    "1. create a df with just the tract number, FIPS number, and geometry\n",
    "1. convert it to the same geo-encoding standard"
   ]
  },
  {
   "cell_type": "code",
   "execution_count": 84,
   "metadata": {},
   "outputs": [],
   "source": [
    "c_tracts = gpd.read_file(\"/home/alp/Google Drive/Python/GeoShapeFiles/cb_2021_us_tract_500k.zip\")"
   ]
  },
  {
   "cell_type": "code",
   "execution_count": 85,
   "metadata": {},
   "outputs": [
    {
     "data": {
      "text/html": [
       "<div>\n",
       "<style scoped>\n",
       "    .dataframe tbody tr th:only-of-type {\n",
       "        vertical-align: middle;\n",
       "    }\n",
       "\n",
       "    .dataframe tbody tr th {\n",
       "        vertical-align: top;\n",
       "    }\n",
       "\n",
       "    .dataframe thead th {\n",
       "        text-align: right;\n",
       "    }\n",
       "</style>\n",
       "<table border=\"1\" class=\"dataframe\">\n",
       "  <thead>\n",
       "    <tr style=\"text-align: right;\">\n",
       "      <th></th>\n",
       "      <th>STATEFP</th>\n",
       "      <th>COUNTYFP</th>\n",
       "      <th>TRACTCE</th>\n",
       "      <th>AFFGEOID</th>\n",
       "      <th>GEOID</th>\n",
       "      <th>NAME</th>\n",
       "      <th>NAMELSAD</th>\n",
       "      <th>STUSPS</th>\n",
       "      <th>NAMELSADCO</th>\n",
       "      <th>STATE_NAME</th>\n",
       "      <th>LSAD</th>\n",
       "      <th>ALAND</th>\n",
       "      <th>AWATER</th>\n",
       "      <th>geometry</th>\n",
       "    </tr>\n",
       "  </thead>\n",
       "  <tbody>\n",
       "    <tr>\n",
       "      <th>0</th>\n",
       "      <td>13</td>\n",
       "      <td>163</td>\n",
       "      <td>960300</td>\n",
       "      <td>1400000US13163960300</td>\n",
       "      <td>13163960300</td>\n",
       "      <td>9603</td>\n",
       "      <td>Census Tract 9603</td>\n",
       "      <td>GA</td>\n",
       "      <td>Jefferson County</td>\n",
       "      <td>Georgia</td>\n",
       "      <td>CT</td>\n",
       "      <td>564728206</td>\n",
       "      <td>4845400</td>\n",
       "      <td>POLYGON ((-82.66192 33.12633, -82.65194 33.126...</td>\n",
       "    </tr>\n",
       "    <tr>\n",
       "      <th>1</th>\n",
       "      <td>37</td>\n",
       "      <td>109</td>\n",
       "      <td>071201</td>\n",
       "      <td>1400000US37109071201</td>\n",
       "      <td>37109071201</td>\n",
       "      <td>712.01</td>\n",
       "      <td>Census Tract 712.01</td>\n",
       "      <td>NC</td>\n",
       "      <td>Lincoln County</td>\n",
       "      <td>North Carolina</td>\n",
       "      <td>CT</td>\n",
       "      <td>5976613</td>\n",
       "      <td>6611763</td>\n",
       "      <td>POLYGON ((-80.99344 35.47878, -80.99142 35.480...</td>\n",
       "    </tr>\n",
       "    <tr>\n",
       "      <th>2</th>\n",
       "      <td>25</td>\n",
       "      <td>025</td>\n",
       "      <td>050200</td>\n",
       "      <td>1400000US25025050200</td>\n",
       "      <td>25025050200</td>\n",
       "      <td>502</td>\n",
       "      <td>Census Tract 502</td>\n",
       "      <td>MA</td>\n",
       "      <td>Suffolk County</td>\n",
       "      <td>Massachusetts</td>\n",
       "      <td>CT</td>\n",
       "      <td>243271</td>\n",
       "      <td>0</td>\n",
       "      <td>POLYGON ((-71.04003 42.37865, -71.03921 42.378...</td>\n",
       "    </tr>\n",
       "  </tbody>\n",
       "</table>\n",
       "</div>"
      ],
      "text/plain": [
       "  STATEFP COUNTYFP TRACTCE              AFFGEOID        GEOID    NAME  \\\n",
       "0      13      163  960300  1400000US13163960300  13163960300    9603   \n",
       "1      37      109  071201  1400000US37109071201  37109071201  712.01   \n",
       "2      25      025  050200  1400000US25025050200  25025050200     502   \n",
       "\n",
       "              NAMELSAD STUSPS        NAMELSADCO      STATE_NAME LSAD  \\\n",
       "0    Census Tract 9603     GA  Jefferson County         Georgia   CT   \n",
       "1  Census Tract 712.01     NC    Lincoln County  North Carolina   CT   \n",
       "2     Census Tract 502     MA    Suffolk County   Massachusetts   CT   \n",
       "\n",
       "       ALAND   AWATER                                           geometry  \n",
       "0  564728206  4845400  POLYGON ((-82.66192 33.12633, -82.65194 33.126...  \n",
       "1    5976613  6611763  POLYGON ((-80.99344 35.47878, -80.99142 35.480...  \n",
       "2     243271        0  POLYGON ((-71.04003 42.37865, -71.03921 42.378...  "
      ]
     },
     "execution_count": 85,
     "metadata": {},
     "output_type": "execute_result"
    }
   ],
   "source": [
    "c_tracts.head(3)"
   ]
  },
  {
   "attachments": {},
   "cell_type": "markdown",
   "metadata": {},
   "source": [
    "We need to combine the STATEF and COUNTYFP fields to create the FIPS number that is used by a lot of other tables. (We can pull the FIPS number apart, if, for some reason, we need just the state number.)"
   ]
  },
  {
   "cell_type": "code",
   "execution_count": 86,
   "metadata": {},
   "outputs": [],
   "source": [
    "c_tracts['FIPS'] = (c_tracts['STATEFP']+c_tracts['COUNTYFP']).astype(str)\n"
   ]
  },
  {
   "attachments": {},
   "cell_type": "markdown",
   "metadata": {},
   "source": [
    "The census tract table has a lot of data we know already (state, county) or don't care about (area that is land, area that is water). We will drop all these and just get the two columns with data we care about: census tract numbers and geometry."
   ]
  },
  {
   "cell_type": "code",
   "execution_count": 87,
   "metadata": {},
   "outputs": [],
   "source": [
    "c_tracts = c_tracts[['TRACTCE','FIPS','geometry']]"
   ]
  },
  {
   "cell_type": "code",
   "execution_count": 88,
   "metadata": {},
   "outputs": [],
   "source": [
    "c_tracts_EPSG = c_tracts.to_crs('EPSG:4326')"
   ]
  },
  {
   "attachments": {},
   "cell_type": "markdown",
   "metadata": {},
   "source": [
    "Create a new geopandas df by doing an .sjoin() that will match the point data from the religion DF to the geometry data in teh census tracts.\n",
    "\n",
    "This will result in census tract numbers being assigned to all the rows in the religion df."
   ]
  },
  {
   "cell_type": "code",
   "execution_count": 89,
   "metadata": {},
   "outputs": [
    {
     "data": {
      "text/html": [
       "<div>\n",
       "<style scoped>\n",
       "    .dataframe tbody tr th:only-of-type {\n",
       "        vertical-align: middle;\n",
       "    }\n",
       "\n",
       "    .dataframe tbody tr th {\n",
       "        vertical-align: top;\n",
       "    }\n",
       "\n",
       "    .dataframe thead th {\n",
       "        text-align: right;\n",
       "    }\n",
       "</style>\n",
       "<table border=\"1\" class=\"dataframe\">\n",
       "  <thead>\n",
       "    <tr style=\"text-align: right;\">\n",
       "      <th></th>\n",
       "      <th>LoanNumber</th>\n",
       "      <th>BorrowerName</th>\n",
       "      <th>BorrowerAddress</th>\n",
       "      <th>BorrowerCity</th>\n",
       "      <th>BorrowerState</th>\n",
       "      <th>lat</th>\n",
       "      <th>lng</th>\n",
       "      <th>county</th>\n",
       "      <th>BorrowerZip</th>\n",
       "      <th>CurrentApprovalAmount</th>\n",
       "      <th>JobsReported</th>\n",
       "      <th>NAICSCode</th>\n",
       "      <th>Race</th>\n",
       "      <th>Ethnicity</th>\n",
       "      <th>BusinessType</th>\n",
       "      <th>ForgivenessAmount</th>\n",
       "      <th>points</th>\n",
       "      <th>index_right</th>\n",
       "      <th>TRACTCE</th>\n",
       "      <th>FIPS</th>\n",
       "    </tr>\n",
       "  </thead>\n",
       "  <tbody>\n",
       "    <tr>\n",
       "      <th>0</th>\n",
       "      <td>9794577700</td>\n",
       "      <td>FRUIT COVE BAPTIST CHURCH OF JACKSONVILLE FL INC</td>\n",
       "      <td>501 State Road 13</td>\n",
       "      <td>Saint Johns</td>\n",
       "      <td>None</td>\n",
       "      <td>30.116637</td>\n",
       "      <td>-81.625214</td>\n",
       "      <td>St. Johns County</td>\n",
       "      <td>32259-2832</td>\n",
       "      <td>289765.00</td>\n",
       "      <td>89.0</td>\n",
       "      <td>813110</td>\n",
       "      <td>Unanswered</td>\n",
       "      <td>Unknown/NotStated</td>\n",
       "      <td>Non-Profit Organization</td>\n",
       "      <td>291741.75</td>\n",
       "      <td>POINT (-81.62521 30.11664)</td>\n",
       "      <td>45671.0</td>\n",
       "      <td>020802</td>\n",
       "      <td>12109</td>\n",
       "    </tr>\n",
       "    <tr>\n",
       "      <th>1</th>\n",
       "      <td>8414257104</td>\n",
       "      <td>CORPORATION OF THE CATHOLIC ARCHBISHOP OF ANCH...</td>\n",
       "      <td>225 Cordova Street</td>\n",
       "      <td>ANCHORAGE</td>\n",
       "      <td>AK</td>\n",
       "      <td>61.220191</td>\n",
       "      <td>-149.878792</td>\n",
       "      <td>Anchorage Municipality</td>\n",
       "      <td>99501</td>\n",
       "      <td>1643548.82</td>\n",
       "      <td>214.0</td>\n",
       "      <td>813110</td>\n",
       "      <td>Unanswered</td>\n",
       "      <td>Unknown/NotStated</td>\n",
       "      <td>Non-Profit Organization</td>\n",
       "      <td>1660524.65</td>\n",
       "      <td>POINT (-149.87879 61.22019)</td>\n",
       "      <td>78940.0</td>\n",
       "      <td>000601</td>\n",
       "      <td>02020</td>\n",
       "    </tr>\n",
       "    <tr>\n",
       "      <th>2</th>\n",
       "      <td>9828357104</td>\n",
       "      <td>ANCHORAGE BAPTIST TEMPLE, INC.</td>\n",
       "      <td>6401 E Northern Lights Blvd</td>\n",
       "      <td>ANCHORAGE</td>\n",
       "      <td>AK</td>\n",
       "      <td>61.196319</td>\n",
       "      <td>-149.760805</td>\n",
       "      <td>Anchorage Municipality</td>\n",
       "      <td>99504-3312</td>\n",
       "      <td>961962.29</td>\n",
       "      <td>166.0</td>\n",
       "      <td>813110</td>\n",
       "      <td>Unanswered</td>\n",
       "      <td>Unknown/NotStated</td>\n",
       "      <td>Non-Profit Organization</td>\n",
       "      <td>969895.18</td>\n",
       "      <td>POINT (-149.76081 61.19632)</td>\n",
       "      <td>32590.0</td>\n",
       "      <td>001702</td>\n",
       "      <td>02020</td>\n",
       "    </tr>\n",
       "  </tbody>\n",
       "</table>\n",
       "</div>"
      ],
      "text/plain": [
       "   LoanNumber                                       BorrowerName  \\\n",
       "0  9794577700   FRUIT COVE BAPTIST CHURCH OF JACKSONVILLE FL INC   \n",
       "1  8414257104  CORPORATION OF THE CATHOLIC ARCHBISHOP OF ANCH...   \n",
       "2  9828357104                     ANCHORAGE BAPTIST TEMPLE, INC.   \n",
       "\n",
       "               BorrowerAddress BorrowerCity BorrowerState        lat  \\\n",
       "0            501 State Road 13  Saint Johns          None  30.116637   \n",
       "1           225 Cordova Street    ANCHORAGE            AK  61.220191   \n",
       "2  6401 E Northern Lights Blvd    ANCHORAGE            AK  61.196319   \n",
       "\n",
       "          lng                  county BorrowerZip  CurrentApprovalAmount  \\\n",
       "0  -81.625214        St. Johns County  32259-2832              289765.00   \n",
       "1 -149.878792  Anchorage Municipality       99501             1643548.82   \n",
       "2 -149.760805  Anchorage Municipality  99504-3312              961962.29   \n",
       "\n",
       "   JobsReported  NAICSCode        Race          Ethnicity  \\\n",
       "0          89.0     813110  Unanswered  Unknown/NotStated   \n",
       "1         214.0     813110  Unanswered  Unknown/NotStated   \n",
       "2         166.0     813110  Unanswered  Unknown/NotStated   \n",
       "\n",
       "              BusinessType  ForgivenessAmount                       points  \\\n",
       "0  Non-Profit Organization          291741.75   POINT (-81.62521 30.11664)   \n",
       "1  Non-Profit Organization         1660524.65  POINT (-149.87879 61.22019)   \n",
       "2  Non-Profit Organization          969895.18  POINT (-149.76081 61.19632)   \n",
       "\n",
       "   index_right TRACTCE   FIPS  \n",
       "0      45671.0  020802  12109  \n",
       "1      78940.0  000601  02020  \n",
       "2      32590.0  001702  02020  "
      ]
     },
     "execution_count": 89,
     "metadata": {},
     "output_type": "execute_result"
    }
   ],
   "source": [
    "df2 = gpd.sjoin(left_df = gdf,right_df=c_tracts_EPSG,how='left')\n",
    "df2.head(3)"
   ]
  },
  {
   "attachments": {},
   "cell_type": "markdown",
   "metadata": {},
   "source": [
    "To make sure the .sjoin() matched the FIPS number AND the TRACTCE number, let's look at one FIPS number (that is, a county) and see how many tracts it contains."
   ]
  },
  {
   "cell_type": "code",
   "execution_count": 90,
   "metadata": {},
   "outputs": [
    {
     "data": {
      "text/plain": [
       "001500    10\n",
       "002812     8\n",
       "001000     8\n",
       "001900     7\n",
       "002501     6\n",
       "000702     5\n",
       "000102     4\n",
       "002811     4\n",
       "001100     4\n",
       "001200     4\n",
       "000201     4\n",
       "002712     3\n",
       "001300     3\n",
       "001731     3\n",
       "001801     3\n",
       "001702     3\n",
       "002900     2\n",
       "002713     2\n",
       "002711     2\n",
       "001601     2\n",
       "000601     2\n",
       "000202     2\n",
       "002601     2\n",
       "002502     1\n",
       "002822     1\n",
       "002000     1\n",
       "000500     1\n",
       "000801     1\n",
       "002821     1\n",
       "002302     1\n",
       "000701     1\n",
       "002714     1\n",
       "002201     1\n",
       "000206     1\n",
       "001401     1\n",
       "Name: TRACTCE, dtype: int64"
      ]
     },
     "execution_count": 90,
     "metadata": {},
     "output_type": "execute_result"
    }
   ],
   "source": [
    "df2[df2['FIPS'] == '02020']['TRACTCE'].value_counts()"
   ]
  },
  {
   "cell_type": "code",
   "execution_count": 91,
   "metadata": {},
   "outputs": [
    {
     "data": {
      "text/plain": [
       "19203"
      ]
     },
     "execution_count": 91,
     "metadata": {},
     "output_type": "execute_result"
    }
   ],
   "source": [
    "len(pd.unique(df2['TRACTCE']))"
   ]
  },
  {
   "attachments": {},
   "cell_type": "markdown",
   "metadata": {},
   "source": [
    "Interesting, of the 85K census tracts, only 19K had borrowers in them.\n",
    "\n",
    "How many records lack FIPS and/or TRACTCE numbers?"
   ]
  },
  {
   "cell_type": "code",
   "execution_count": 92,
   "metadata": {},
   "outputs": [
    {
     "data": {
      "text/plain": [
       "37"
      ]
     },
     "execution_count": 92,
     "metadata": {},
     "output_type": "execute_result"
    }
   ],
   "source": [
    "len(df2[df2['FIPS'].isna()])"
   ]
  },
  {
   "attachments": {},
   "cell_type": "markdown",
   "metadata": {},
   "source": [
    "There are only 37 records that lack data -- mostly because it seems Google didn't find lat/lon data for them.\n",
    "\n",
    "Given this small number, this would be a good job for a student researcher -- find the addresses on Google maps and find the lat/long data for them.\n",
    "\n",
    "I'll delete the unneeded columns ('POINT' and 'index_right')."
   ]
  },
  {
   "cell_type": "code",
   "execution_count": 93,
   "metadata": {},
   "outputs": [
    {
     "data": {
      "text/plain": [
       "Index(['LoanNumber', 'BorrowerName', 'BorrowerAddress', 'BorrowerCity',\n",
       "       'BorrowerState', 'lat', 'lng', 'county', 'BorrowerZip',\n",
       "       'CurrentApprovalAmount', 'JobsReported', 'NAICSCode', 'Race',\n",
       "       'Ethnicity', 'BusinessType', 'ForgivenessAmount', 'TRACTCE', 'FIPS'],\n",
       "      dtype='object')"
      ]
     },
     "execution_count": 93,
     "metadata": {},
     "output_type": "execute_result"
    }
   ],
   "source": [
    "df2 = df2.drop(columns = ['points','index_right'])\n",
    "df2.columns"
   ]
  },
  {
   "attachments": {},
   "cell_type": "markdown",
   "metadata": {},
   "source": [
    "Finally, I didn't keep the Congressional districts from the original data, so we will add that data back. Since the LoanNumber is a unique identifier, all I need to do is to create a DF from the original data that has the loan number and CD, and then join that with the df I've been adding information to."
   ]
  },
  {
   "cell_type": "code",
   "execution_count": 94,
   "metadata": {},
   "outputs": [],
   "source": [
    "import glob\n",
    "workDir = '/home/alp/Google Drive/Python/analysis/PPP_analysis/data/'\n",
    "\n",
    "file_names = sorted(glob.glob(workDir+'public_up_to*.csv'))\n",
    "firstFile = 'public_150k_plus_220930.csv'\n",
    "\n",
    "\n",
    "#colList = ['LoanNumber','CD','BorrowerZip','ProjectZip','ProjectCountyName',\n",
    " #           'JobsReported','NAICSCode',\n",
    " #           'Race','Ethnicity','Gender','Veteran',\n",
    " #           'BusinessType','ForgivenessAmount']\n",
    "\n",
    "colList = ['LoanNumber','CD',]\n",
    "\n",
    "cd_df = pd.read_csv(workDir+firstFile, usecols = colList)\n",
    "#df = df[df['NAICSCode'] == 813110]\n",
    "\n",
    "for file in file_names:\n",
    "    oldDF = cd_df\n",
    "    #print(file)\n",
    "    if firstFile not in file:\n",
    "        newDF = pd.read_csv(file, usecols = colList)\n",
    "        #newDF = newDF[newDF['NAICSCode'] == 813110]\n",
    "        cd_df = pd.concat([oldDF,newDF])"
   ]
  },
  {
   "cell_type": "code",
   "execution_count": 110,
   "metadata": {},
   "outputs": [],
   "source": [
    "final = pd.merge(left=df2,right=cd_df,left_on='LoanNumber',right_on='LoanNumber',how='left')"
   ]
  },
  {
   "cell_type": "code",
   "execution_count": 111,
   "metadata": {},
   "outputs": [
    {
     "data": {
      "text/plain": [
       "DE-    329\n",
       "Name: CD, dtype: int64"
      ]
     },
     "execution_count": 111,
     "metadata": {},
     "output_type": "execute_result"
    }
   ],
   "source": [
    "final[final['BorrowerState'] == 'DE']['CD'].value_counts()"
   ]
  },
  {
   "attachments": {},
   "cell_type": "markdown",
   "metadata": {},
   "source": [
    "There are seven states (+DC) that have only 1 rep (AK, DE, MT, ND, SD, VT, WY). Currently, their CD is listed as the state abbreviation + dash (DE-).\n",
    "\n",
    "We need to change this so they have an 01 apppended (DE-01), so they will match the rest of the data.\n",
    "\n",
    "The data also has records for PR, GU, VI, etc. We'll keep all those, but also add the '01' to them. "
   ]
  },
  {
   "cell_type": "code",
   "execution_count": 112,
   "metadata": {},
   "outputs": [
    {
     "data": {
      "text/plain": [
       "['SD-',\n",
       " 'ND-',\n",
       " 'PR-',\n",
       " 'DC-',\n",
       " 'MT-',\n",
       " 'DE-',\n",
       " 'VT-',\n",
       " 'AK-',\n",
       " 'WY-',\n",
       " 'GU-',\n",
       " 'VI-',\n",
       " 'MP-',\n",
       " 'AS-',\n",
       " 'AE-',\n",
       " 'NC-']"
      ]
     },
     "execution_count": 112,
     "metadata": {},
     "output_type": "execute_result"
    }
   ],
   "source": [
    "single_rep_list = final[final['CD'].str.len() == 3]['CD'].value_counts().index.to_list()\n",
    "single_rep_list"
   ]
  },
  {
   "cell_type": "code",
   "execution_count": 113,
   "metadata": {},
   "outputs": [
    {
     "data": {
      "text/html": [
       "<div>\n",
       "<style scoped>\n",
       "    .dataframe tbody tr th:only-of-type {\n",
       "        vertical-align: middle;\n",
       "    }\n",
       "\n",
       "    .dataframe tbody tr th {\n",
       "        vertical-align: top;\n",
       "    }\n",
       "\n",
       "    .dataframe thead th {\n",
       "        text-align: right;\n",
       "    }\n",
       "</style>\n",
       "<table border=\"1\" class=\"dataframe\">\n",
       "  <thead>\n",
       "    <tr style=\"text-align: right;\">\n",
       "      <th></th>\n",
       "      <th>LoanNumber</th>\n",
       "      <th>BorrowerName</th>\n",
       "      <th>BorrowerAddress</th>\n",
       "      <th>BorrowerCity</th>\n",
       "      <th>BorrowerState</th>\n",
       "      <th>lat</th>\n",
       "      <th>lng</th>\n",
       "      <th>county</th>\n",
       "      <th>BorrowerZip</th>\n",
       "      <th>CurrentApprovalAmount</th>\n",
       "      <th>JobsReported</th>\n",
       "      <th>NAICSCode</th>\n",
       "      <th>Race</th>\n",
       "      <th>Ethnicity</th>\n",
       "      <th>BusinessType</th>\n",
       "      <th>ForgivenessAmount</th>\n",
       "      <th>TRACTCE</th>\n",
       "      <th>FIPS</th>\n",
       "      <th>CD</th>\n",
       "    </tr>\n",
       "  </thead>\n",
       "  <tbody>\n",
       "    <tr>\n",
       "      <th>66810</th>\n",
       "      <td>4363977708</td>\n",
       "      <td>ST JOSEPH OF THE HILLS CATHOLIC CHURCH</td>\n",
       "      <td>316 BOONE RD</td>\n",
       "      <td>EDEN</td>\n",
       "      <td>NC</td>\n",
       "      <td>36.499757</td>\n",
       "      <td>-79.759111</td>\n",
       "      <td>Rockingham County</td>\n",
       "      <td>28288</td>\n",
       "      <td>13612.0</td>\n",
       "      <td>1.0</td>\n",
       "      <td>813110</td>\n",
       "      <td>Unanswered</td>\n",
       "      <td>Unknown/NotStated</td>\n",
       "      <td>Non-Profit Organization</td>\n",
       "      <td>13710.45</td>\n",
       "      <td>040300</td>\n",
       "      <td>37157</td>\n",
       "      <td>NC-</td>\n",
       "    </tr>\n",
       "  </tbody>\n",
       "</table>\n",
       "</div>"
      ],
      "text/plain": [
       "       LoanNumber                            BorrowerName BorrowerAddress  \\\n",
       "66810  4363977708  ST JOSEPH OF THE HILLS CATHOLIC CHURCH    316 BOONE RD   \n",
       "\n",
       "      BorrowerCity BorrowerState        lat        lng             county  \\\n",
       "66810         EDEN            NC  36.499757 -79.759111  Rockingham County   \n",
       "\n",
       "      BorrowerZip  CurrentApprovalAmount  JobsReported  NAICSCode        Race  \\\n",
       "66810       28288                13612.0           1.0     813110  Unanswered   \n",
       "\n",
       "               Ethnicity             BusinessType  ForgivenessAmount TRACTCE  \\\n",
       "66810  Unknown/NotStated  Non-Profit Organization           13710.45  040300   \n",
       "\n",
       "        FIPS   CD  \n",
       "66810  37157  NC-  "
      ]
     },
     "execution_count": 113,
     "metadata": {},
     "output_type": "execute_result"
    }
   ],
   "source": [
    "final[final['CD']=='NC-']"
   ]
  },
  {
   "attachments": {},
   "cell_type": "markdown",
   "metadata": {},
   "source": [
    "Let's fix this manually. NC's districts are a mess, as the state house keeps re-drawing lines, which are struck down by the NC supreme court.\n",
    "\n",
    "After some research, I think Eden, NC is in the 6th district. "
   ]
  },
  {
   "cell_type": "code",
   "execution_count": 114,
   "metadata": {},
   "outputs": [],
   "source": [
    "final.loc[final['CD'] == 'NC-', 'CD'] = \"NC-06\""
   ]
  },
  {
   "cell_type": "code",
   "execution_count": 115,
   "metadata": {},
   "outputs": [
    {
     "data": {
      "text/plain": [
       "['SD-',\n",
       " 'ND-',\n",
       " 'PR-',\n",
       " 'DC-',\n",
       " 'MT-',\n",
       " 'DE-',\n",
       " 'VT-',\n",
       " 'AK-',\n",
       " 'WY-',\n",
       " 'GU-',\n",
       " 'VI-',\n",
       " 'MP-',\n",
       " 'AS-',\n",
       " 'AE-']"
      ]
     },
     "execution_count": 115,
     "metadata": {},
     "output_type": "execute_result"
    }
   ],
   "source": [
    "single_rep_list = final[final['CD'].str.len() == 3]['CD'].value_counts().index.to_list()\n",
    "single_rep_list"
   ]
  },
  {
   "cell_type": "code",
   "execution_count": 116,
   "metadata": {},
   "outputs": [],
   "source": [
    "#https://www.geeksforgeeks.org/how-to-replace-values-in-column-based-on-condition-in-pandas/\n",
    "#Syntax: df.loc[ df[“column_name”] == “some_value”, “column_name”] = “value”\n",
    "\n",
    "for state in single_rep_list:\n",
    "    final.loc[final['CD'] == state, 'CD'] = f\"{state}01\"\n"
   ]
  },
  {
   "cell_type": "code",
   "execution_count": 117,
   "metadata": {},
   "outputs": [
    {
     "data": {
      "text/plain": [
       "DE-01    329\n",
       "Name: CD, dtype: int64"
      ]
     },
     "execution_count": 117,
     "metadata": {},
     "output_type": "execute_result"
    }
   ],
   "source": [
    "final[final['BorrowerState'] == 'DE']['CD'].value_counts()"
   ]
  },
  {
   "cell_type": "code",
   "execution_count": 118,
   "metadata": {},
   "outputs": [],
   "source": [
    "# DC is (of course) treated differently -- it shows up in the censs records as DC-99\n",
    "final.loc[final['CD'] == 'DC-01', 'CD'] = 'DC-99'"
   ]
  },
  {
   "attachments": {},
   "cell_type": "markdown",
   "metadata": {},
   "source": [
    "Let's see if there are other messed up CDs. . ."
   ]
  },
  {
   "cell_type": "code",
   "execution_count": 119,
   "metadata": {},
   "outputs": [
    {
     "data": {
      "text/plain": [
       "Series([], Name: CD, dtype: int64)"
      ]
     },
     "execution_count": 119,
     "metadata": {},
     "output_type": "execute_result"
    }
   ],
   "source": [
    "final[final['CD'].str.len() == 3]['CD'].value_counts()"
   ]
  },
  {
   "cell_type": "code",
   "execution_count": 120,
   "metadata": {},
   "outputs": [
    {
     "data": {
      "text/plain": [
       "6"
      ]
     },
     "execution_count": 120,
     "metadata": {},
     "output_type": "execute_result"
    }
   ],
   "source": [
    "len(final[final['CD'].isna()])"
   ]
  },
  {
   "cell_type": "code",
   "execution_count": 121,
   "metadata": {},
   "outputs": [
    {
     "data": {
      "text/html": [
       "<div>\n",
       "<style scoped>\n",
       "    .dataframe tbody tr th:only-of-type {\n",
       "        vertical-align: middle;\n",
       "    }\n",
       "\n",
       "    .dataframe tbody tr th {\n",
       "        vertical-align: top;\n",
       "    }\n",
       "\n",
       "    .dataframe thead th {\n",
       "        text-align: right;\n",
       "    }\n",
       "</style>\n",
       "<table border=\"1\" class=\"dataframe\">\n",
       "  <thead>\n",
       "    <tr style=\"text-align: right;\">\n",
       "      <th></th>\n",
       "      <th>LoanNumber</th>\n",
       "      <th>BorrowerName</th>\n",
       "      <th>BorrowerAddress</th>\n",
       "      <th>BorrowerCity</th>\n",
       "      <th>BorrowerState</th>\n",
       "      <th>lat</th>\n",
       "      <th>lng</th>\n",
       "      <th>county</th>\n",
       "      <th>BorrowerZip</th>\n",
       "      <th>CurrentApprovalAmount</th>\n",
       "      <th>JobsReported</th>\n",
       "      <th>NAICSCode</th>\n",
       "      <th>Race</th>\n",
       "      <th>Ethnicity</th>\n",
       "      <th>BusinessType</th>\n",
       "      <th>ForgivenessAmount</th>\n",
       "      <th>TRACTCE</th>\n",
       "      <th>FIPS</th>\n",
       "      <th>CD</th>\n",
       "    </tr>\n",
       "  </thead>\n",
       "  <tbody>\n",
       "    <tr>\n",
       "      <th>30118</th>\n",
       "      <td>8169597706</td>\n",
       "      <td>GRACE EVANGELICAL LUTHERAN CHURCH INC</td>\n",
       "      <td>3434 6th Street</td>\n",
       "      <td>Lewiston</td>\n",
       "      <td>ID</td>\n",
       "      <td>46.377232</td>\n",
       "      <td>-117.002555</td>\n",
       "      <td>Nez Perce County</td>\n",
       "      <td>83504</td>\n",
       "      <td>18800.0</td>\n",
       "      <td>5.0</td>\n",
       "      <td>813110</td>\n",
       "      <td>Unanswered</td>\n",
       "      <td>Unknown/NotStated</td>\n",
       "      <td>Non-Profit Organization</td>\n",
       "      <td>18887.05</td>\n",
       "      <td>960700</td>\n",
       "      <td>16069</td>\n",
       "      <td>NaN</td>\n",
       "    </tr>\n",
       "    <tr>\n",
       "      <th>82803</th>\n",
       "      <td>7598347705</td>\n",
       "      <td>LIGHTHOUSE MINISTRIES</td>\n",
       "      <td>464 Rathmell Rd</td>\n",
       "      <td>Lockbourne</td>\n",
       "      <td>OH</td>\n",
       "      <td>39.863566</td>\n",
       "      <td>-82.994756</td>\n",
       "      <td>Franklin County</td>\n",
       "      <td>43237</td>\n",
       "      <td>14000.0</td>\n",
       "      <td>4.0</td>\n",
       "      <td>813110</td>\n",
       "      <td>Unanswered</td>\n",
       "      <td>Unknown/NotStated</td>\n",
       "      <td>Non-Profit Organization</td>\n",
       "      <td>14139.22</td>\n",
       "      <td>009590</td>\n",
       "      <td>39049</td>\n",
       "      <td>NaN</td>\n",
       "    </tr>\n",
       "    <tr>\n",
       "      <th>110104</th>\n",
       "      <td>9368327703</td>\n",
       "      <td>NATIONAL ASSOCIATION OF CATHOLIC CHAPLAINS, LTD.</td>\n",
       "      <td>4915 S HOWELL AVE SUITE 501</td>\n",
       "      <td>MILWAUKEE</td>\n",
       "      <td>WI</td>\n",
       "      <td>42.955234</td>\n",
       "      <td>-87.910435</td>\n",
       "      <td>Milwaukee County</td>\n",
       "      <td>54320</td>\n",
       "      <td>106647.5</td>\n",
       "      <td>7.0</td>\n",
       "      <td>813110</td>\n",
       "      <td>Unanswered</td>\n",
       "      <td>Unknown/NotStated</td>\n",
       "      <td>Limited  Liability Company(LLC)</td>\n",
       "      <td>107687.68</td>\n",
       "      <td>021600</td>\n",
       "      <td>55079</td>\n",
       "      <td>NaN</td>\n",
       "    </tr>\n",
       "    <tr>\n",
       "      <th>111562</th>\n",
       "      <td>9302477710</td>\n",
       "      <td>FIRST CONGREGATIONAL CHURCH OF RIPON</td>\n",
       "      <td>220 RANSOM ST</td>\n",
       "      <td>RIPON</td>\n",
       "      <td>WI</td>\n",
       "      <td>43.844855</td>\n",
       "      <td>-88.840666</td>\n",
       "      <td>Fond du Lac County</td>\n",
       "      <td>57971</td>\n",
       "      <td>18500.0</td>\n",
       "      <td>6.0</td>\n",
       "      <td>813110</td>\n",
       "      <td>Unanswered</td>\n",
       "      <td>Unknown/NotStated</td>\n",
       "      <td>Limited  Liability Company(LLC)</td>\n",
       "      <td>18683.48</td>\n",
       "      <td>041600</td>\n",
       "      <td>55039</td>\n",
       "      <td>NaN</td>\n",
       "    </tr>\n",
       "    <tr>\n",
       "      <th>113591</th>\n",
       "      <td>9772027709</td>\n",
       "      <td>HOLY TRINITY BAPTIST CHURCH</td>\n",
       "      <td>None</td>\n",
       "      <td>None</td>\n",
       "      <td>None</td>\n",
       "      <td>-999.000000</td>\n",
       "      <td>-999.000000</td>\n",
       "      <td>Not Found</td>\n",
       "      <td>None</td>\n",
       "      <td>32625.0</td>\n",
       "      <td>3.0</td>\n",
       "      <td>813110</td>\n",
       "      <td>Unanswered</td>\n",
       "      <td>Unknown/NotStated</td>\n",
       "      <td>None</td>\n",
       "      <td>32891.36</td>\n",
       "      <td>NaN</td>\n",
       "      <td>NaN</td>\n",
       "      <td>NaN</td>\n",
       "    </tr>\n",
       "    <tr>\n",
       "      <th>113592</th>\n",
       "      <td>9727847709</td>\n",
       "      <td>RHEMA EMPOWERMENT CENTER CHURCH</td>\n",
       "      <td>None</td>\n",
       "      <td>None</td>\n",
       "      <td>None</td>\n",
       "      <td>-999.000000</td>\n",
       "      <td>-999.000000</td>\n",
       "      <td>Not Found</td>\n",
       "      <td>None</td>\n",
       "      <td>9000.0</td>\n",
       "      <td>1.0</td>\n",
       "      <td>813110</td>\n",
       "      <td>Unanswered</td>\n",
       "      <td>Unknown/NotStated</td>\n",
       "      <td>Professional Association</td>\n",
       "      <td>9099.37</td>\n",
       "      <td>NaN</td>\n",
       "      <td>NaN</td>\n",
       "      <td>NaN</td>\n",
       "    </tr>\n",
       "  </tbody>\n",
       "</table>\n",
       "</div>"
      ],
      "text/plain": [
       "        LoanNumber                                      BorrowerName  \\\n",
       "30118   8169597706             GRACE EVANGELICAL LUTHERAN CHURCH INC   \n",
       "82803   7598347705                             LIGHTHOUSE MINISTRIES   \n",
       "110104  9368327703  NATIONAL ASSOCIATION OF CATHOLIC CHAPLAINS, LTD.   \n",
       "111562  9302477710              FIRST CONGREGATIONAL CHURCH OF RIPON   \n",
       "113591  9772027709                       HOLY TRINITY BAPTIST CHURCH   \n",
       "113592  9727847709                   RHEMA EMPOWERMENT CENTER CHURCH   \n",
       "\n",
       "                    BorrowerAddress BorrowerCity BorrowerState         lat  \\\n",
       "30118               3434 6th Street     Lewiston            ID   46.377232   \n",
       "82803               464 Rathmell Rd   Lockbourne            OH   39.863566   \n",
       "110104  4915 S HOWELL AVE SUITE 501    MILWAUKEE            WI   42.955234   \n",
       "111562                220 RANSOM ST        RIPON            WI   43.844855   \n",
       "113591                         None         None          None -999.000000   \n",
       "113592                         None         None          None -999.000000   \n",
       "\n",
       "               lng              county BorrowerZip  CurrentApprovalAmount  \\\n",
       "30118  -117.002555    Nez Perce County       83504                18800.0   \n",
       "82803   -82.994756     Franklin County       43237                14000.0   \n",
       "110104  -87.910435    Milwaukee County       54320               106647.5   \n",
       "111562  -88.840666  Fond du Lac County       57971                18500.0   \n",
       "113591 -999.000000           Not Found        None                32625.0   \n",
       "113592 -999.000000           Not Found        None                 9000.0   \n",
       "\n",
       "        JobsReported  NAICSCode        Race          Ethnicity  \\\n",
       "30118            5.0     813110  Unanswered  Unknown/NotStated   \n",
       "82803            4.0     813110  Unanswered  Unknown/NotStated   \n",
       "110104           7.0     813110  Unanswered  Unknown/NotStated   \n",
       "111562           6.0     813110  Unanswered  Unknown/NotStated   \n",
       "113591           3.0     813110  Unanswered  Unknown/NotStated   \n",
       "113592           1.0     813110  Unanswered  Unknown/NotStated   \n",
       "\n",
       "                           BusinessType  ForgivenessAmount TRACTCE   FIPS   CD  \n",
       "30118           Non-Profit Organization           18887.05  960700  16069  NaN  \n",
       "82803           Non-Profit Organization           14139.22  009590  39049  NaN  \n",
       "110104  Limited  Liability Company(LLC)          107687.68  021600  55079  NaN  \n",
       "111562  Limited  Liability Company(LLC)           18683.48  041600  55039  NaN  \n",
       "113591                             None           32891.36     NaN    NaN  NaN  \n",
       "113592         Professional Association            9099.37     NaN    NaN  NaN  "
      ]
     },
     "execution_count": 121,
     "metadata": {},
     "output_type": "execute_result"
    }
   ],
   "source": [
    "final[final['CD'].isna()]"
   ]
  },
  {
   "cell_type": "code",
   "execution_count": 73,
   "metadata": {},
   "outputs": [],
   "source": [
    "final.loc[final['LoanNumber'] == '8169597706', 'CD'] = 'ID-01'\n",
    "# 83504 is an invalid ZIP. It should be 83501. According to https://ziplook.house.gov/htbin/findrep_house that puts it in ID-01 \n",
    "final.loc[final['LoanNumber'] == '7598347705', 'CD'] = 'ID-01'\n",
    "# 43237 is an invalid ZIP. It should be 43137. > OH-15 (Not sure this is correct, b/c of the new district maps)\n",
    "final.loc[final['LoanNumber'] == '9368327703', 'CD'] = 'WI-04'\n",
    "# 54230 invalid ZIP. Should be 53207. > WI-04\n",
    "final.loc[final['LoanNumber'] == '9302477710', 'CD'] = 'WI-06'\n",
    "# 54971 IS a valid ZIP! > WI-06"
   ]
  },
  {
   "cell_type": "code",
   "execution_count": 125,
   "metadata": {},
   "outputs": [
    {
     "data": {
      "text/html": [
       "<div>\n",
       "<style scoped>\n",
       "    .dataframe tbody tr th:only-of-type {\n",
       "        vertical-align: middle;\n",
       "    }\n",
       "\n",
       "    .dataframe tbody tr th {\n",
       "        vertical-align: top;\n",
       "    }\n",
       "\n",
       "    .dataframe thead th {\n",
       "        text-align: right;\n",
       "    }\n",
       "</style>\n",
       "<table border=\"1\" class=\"dataframe\">\n",
       "  <thead>\n",
       "    <tr style=\"text-align: right;\">\n",
       "      <th></th>\n",
       "      <th>LoanNumber</th>\n",
       "      <th>BorrowerName</th>\n",
       "      <th>BorrowerAddress</th>\n",
       "      <th>BorrowerCity</th>\n",
       "      <th>BorrowerState</th>\n",
       "      <th>lat</th>\n",
       "      <th>lng</th>\n",
       "      <th>county</th>\n",
       "      <th>BorrowerZip</th>\n",
       "      <th>CurrentApprovalAmount</th>\n",
       "      <th>JobsReported</th>\n",
       "      <th>NAICSCode</th>\n",
       "      <th>Race</th>\n",
       "      <th>Ethnicity</th>\n",
       "      <th>BusinessType</th>\n",
       "      <th>ForgivenessAmount</th>\n",
       "      <th>TRACTCE</th>\n",
       "      <th>FIPS</th>\n",
       "      <th>CD</th>\n",
       "    </tr>\n",
       "  </thead>\n",
       "  <tbody>\n",
       "    <tr>\n",
       "      <th>30118</th>\n",
       "      <td>8169597706</td>\n",
       "      <td>GRACE EVANGELICAL LUTHERAN CHURCH INC</td>\n",
       "      <td>3434 6th Street</td>\n",
       "      <td>Lewiston</td>\n",
       "      <td>ID</td>\n",
       "      <td>46.377232</td>\n",
       "      <td>-117.002555</td>\n",
       "      <td>Nez Perce County</td>\n",
       "      <td>83504</td>\n",
       "      <td>18800.0</td>\n",
       "      <td>5.0</td>\n",
       "      <td>813110</td>\n",
       "      <td>Unanswered</td>\n",
       "      <td>Unknown/NotStated</td>\n",
       "      <td>Non-Profit Organization</td>\n",
       "      <td>18887.05</td>\n",
       "      <td>960700</td>\n",
       "      <td>16069</td>\n",
       "      <td>NaN</td>\n",
       "    </tr>\n",
       "    <tr>\n",
       "      <th>82803</th>\n",
       "      <td>7598347705</td>\n",
       "      <td>LIGHTHOUSE MINISTRIES</td>\n",
       "      <td>464 Rathmell Rd</td>\n",
       "      <td>Lockbourne</td>\n",
       "      <td>OH</td>\n",
       "      <td>39.863566</td>\n",
       "      <td>-82.994756</td>\n",
       "      <td>Franklin County</td>\n",
       "      <td>43237</td>\n",
       "      <td>14000.0</td>\n",
       "      <td>4.0</td>\n",
       "      <td>813110</td>\n",
       "      <td>Unanswered</td>\n",
       "      <td>Unknown/NotStated</td>\n",
       "      <td>Non-Profit Organization</td>\n",
       "      <td>14139.22</td>\n",
       "      <td>009590</td>\n",
       "      <td>39049</td>\n",
       "      <td>NaN</td>\n",
       "    </tr>\n",
       "    <tr>\n",
       "      <th>110104</th>\n",
       "      <td>9368327703</td>\n",
       "      <td>NATIONAL ASSOCIATION OF CATHOLIC CHAPLAINS, LTD.</td>\n",
       "      <td>4915 S HOWELL AVE SUITE 501</td>\n",
       "      <td>MILWAUKEE</td>\n",
       "      <td>WI</td>\n",
       "      <td>42.955234</td>\n",
       "      <td>-87.910435</td>\n",
       "      <td>Milwaukee County</td>\n",
       "      <td>54320</td>\n",
       "      <td>106647.5</td>\n",
       "      <td>7.0</td>\n",
       "      <td>813110</td>\n",
       "      <td>Unanswered</td>\n",
       "      <td>Unknown/NotStated</td>\n",
       "      <td>Limited  Liability Company(LLC)</td>\n",
       "      <td>107687.68</td>\n",
       "      <td>021600</td>\n",
       "      <td>55079</td>\n",
       "      <td>NaN</td>\n",
       "    </tr>\n",
       "    <tr>\n",
       "      <th>111562</th>\n",
       "      <td>9302477710</td>\n",
       "      <td>FIRST CONGREGATIONAL CHURCH OF RIPON</td>\n",
       "      <td>220 RANSOM ST</td>\n",
       "      <td>RIPON</td>\n",
       "      <td>WI</td>\n",
       "      <td>43.844855</td>\n",
       "      <td>-88.840666</td>\n",
       "      <td>Fond du Lac County</td>\n",
       "      <td>57971</td>\n",
       "      <td>18500.0</td>\n",
       "      <td>6.0</td>\n",
       "      <td>813110</td>\n",
       "      <td>Unanswered</td>\n",
       "      <td>Unknown/NotStated</td>\n",
       "      <td>Limited  Liability Company(LLC)</td>\n",
       "      <td>18683.48</td>\n",
       "      <td>041600</td>\n",
       "      <td>55039</td>\n",
       "      <td>NaN</td>\n",
       "    </tr>\n",
       "    <tr>\n",
       "      <th>113591</th>\n",
       "      <td>9772027709</td>\n",
       "      <td>HOLY TRINITY BAPTIST CHURCH</td>\n",
       "      <td>None</td>\n",
       "      <td>None</td>\n",
       "      <td>None</td>\n",
       "      <td>-999.000000</td>\n",
       "      <td>-999.000000</td>\n",
       "      <td>Not Found</td>\n",
       "      <td>None</td>\n",
       "      <td>32625.0</td>\n",
       "      <td>3.0</td>\n",
       "      <td>813110</td>\n",
       "      <td>Unanswered</td>\n",
       "      <td>Unknown/NotStated</td>\n",
       "      <td>None</td>\n",
       "      <td>32891.36</td>\n",
       "      <td>NaN</td>\n",
       "      <td>NaN</td>\n",
       "      <td>NaN</td>\n",
       "    </tr>\n",
       "    <tr>\n",
       "      <th>113592</th>\n",
       "      <td>9727847709</td>\n",
       "      <td>RHEMA EMPOWERMENT CENTER CHURCH</td>\n",
       "      <td>None</td>\n",
       "      <td>None</td>\n",
       "      <td>None</td>\n",
       "      <td>-999.000000</td>\n",
       "      <td>-999.000000</td>\n",
       "      <td>Not Found</td>\n",
       "      <td>None</td>\n",
       "      <td>9000.0</td>\n",
       "      <td>1.0</td>\n",
       "      <td>813110</td>\n",
       "      <td>Unanswered</td>\n",
       "      <td>Unknown/NotStated</td>\n",
       "      <td>Professional Association</td>\n",
       "      <td>9099.37</td>\n",
       "      <td>NaN</td>\n",
       "      <td>NaN</td>\n",
       "      <td>NaN</td>\n",
       "    </tr>\n",
       "  </tbody>\n",
       "</table>\n",
       "</div>"
      ],
      "text/plain": [
       "        LoanNumber                                      BorrowerName  \\\n",
       "30118   8169597706             GRACE EVANGELICAL LUTHERAN CHURCH INC   \n",
       "82803   7598347705                             LIGHTHOUSE MINISTRIES   \n",
       "110104  9368327703  NATIONAL ASSOCIATION OF CATHOLIC CHAPLAINS, LTD.   \n",
       "111562  9302477710              FIRST CONGREGATIONAL CHURCH OF RIPON   \n",
       "113591  9772027709                       HOLY TRINITY BAPTIST CHURCH   \n",
       "113592  9727847709                   RHEMA EMPOWERMENT CENTER CHURCH   \n",
       "\n",
       "                    BorrowerAddress BorrowerCity BorrowerState         lat  \\\n",
       "30118               3434 6th Street     Lewiston            ID   46.377232   \n",
       "82803               464 Rathmell Rd   Lockbourne            OH   39.863566   \n",
       "110104  4915 S HOWELL AVE SUITE 501    MILWAUKEE            WI   42.955234   \n",
       "111562                220 RANSOM ST        RIPON            WI   43.844855   \n",
       "113591                         None         None          None -999.000000   \n",
       "113592                         None         None          None -999.000000   \n",
       "\n",
       "               lng              county BorrowerZip  CurrentApprovalAmount  \\\n",
       "30118  -117.002555    Nez Perce County       83504                18800.0   \n",
       "82803   -82.994756     Franklin County       43237                14000.0   \n",
       "110104  -87.910435    Milwaukee County       54320               106647.5   \n",
       "111562  -88.840666  Fond du Lac County       57971                18500.0   \n",
       "113591 -999.000000           Not Found        None                32625.0   \n",
       "113592 -999.000000           Not Found        None                 9000.0   \n",
       "\n",
       "        JobsReported  NAICSCode        Race          Ethnicity  \\\n",
       "30118            5.0     813110  Unanswered  Unknown/NotStated   \n",
       "82803            4.0     813110  Unanswered  Unknown/NotStated   \n",
       "110104           7.0     813110  Unanswered  Unknown/NotStated   \n",
       "111562           6.0     813110  Unanswered  Unknown/NotStated   \n",
       "113591           3.0     813110  Unanswered  Unknown/NotStated   \n",
       "113592           1.0     813110  Unanswered  Unknown/NotStated   \n",
       "\n",
       "                           BusinessType  ForgivenessAmount TRACTCE   FIPS   CD  \n",
       "30118           Non-Profit Organization           18887.05  960700  16069  NaN  \n",
       "82803           Non-Profit Organization           14139.22  009590  39049  NaN  \n",
       "110104  Limited  Liability Company(LLC)          107687.68  021600  55079  NaN  \n",
       "111562  Limited  Liability Company(LLC)           18683.48  041600  55039  NaN  \n",
       "113591                             None           32891.36     NaN    NaN  NaN  \n",
       "113592         Professional Association            9099.37     NaN    NaN  NaN  "
      ]
     },
     "execution_count": 125,
     "metadata": {},
     "output_type": "execute_result"
    }
   ],
   "source": [
    "final[final['CD'].isna()]"
   ]
  },
  {
   "attachments": {},
   "cell_type": "markdown",
   "metadata": {},
   "source": [
    "Annoying! Apparently, I can't search for a row by COL A and change a value in COL B.\n",
    "\n",
    "Well, let's change all the NAN values to ='-99999' so we can find them easily in Excel.\n",
    "Then we will save df as a TAB delimited CSV. (I'm using TAB because there are some commas in some of the names, which screws up the CSV import.)"
   ]
  },
  {
   "cell_type": "code",
   "execution_count": null,
   "metadata": {},
   "outputs": [],
   "source": [
    "#https://stackoverflow.com/questions/31511997/pandas-dataframe-replace-all-values-in-a-column-based-on-condition\n",
    "import numpy as np\n",
    "final['CD'] = np.where(final['LoanNumber'] == '8169597706','ID-01',final['CD'])"
   ]
  },
  {
   "attachments": {},
   "cell_type": "markdown",
   "metadata": {},
   "source": [
    "According to the link above, I should be able to do this with numpy, but it doesn't work either."
   ]
  },
  {
   "cell_type": "code",
   "execution_count": 75,
   "metadata": {},
   "outputs": [
    {
     "data": {
      "text/plain": [
       "Index(['LoanNumber', 'BorrowerName', 'BorrowerAddress', 'BorrowerCity',\n",
       "       'BorrowerState', 'lat', 'lng', 'county', 'BorrowerZip',\n",
       "       'CurrentApprovalAmount', 'JobsReported', 'NAICSCode', 'Race',\n",
       "       'Ethnicity', 'BusinessType', 'ForgivenessAmount', 'TRACTCE', 'FIPS',\n",
       "       'CD'],\n",
       "      dtype='object')"
      ]
     },
     "execution_count": 75,
     "metadata": {},
     "output_type": "execute_result"
    }
   ],
   "source": [
    "final.columns"
   ]
  },
  {
   "cell_type": "code",
   "execution_count": 76,
   "metadata": {},
   "outputs": [],
   "source": [
    "final['CD'] = final['CD'].fillna('-9999')"
   ]
  },
  {
   "cell_type": "code",
   "execution_count": 78,
   "metadata": {},
   "outputs": [],
   "source": [
    "final['FIPS'] = final['FIPS'].fillna('-9999')\n",
    "final['TRACTCE'] = final['TRACTCE'].fillna('-9999')"
   ]
  },
  {
   "cell_type": "code",
   "execution_count": 79,
   "metadata": {},
   "outputs": [],
   "source": [
    "final.to_csv('PPP_RE_with_FIPS_CD_CensusT.csv',sep = '\\t')"
   ]
  }
 ],
 "metadata": {
  "kernelspec": {
   "display_name": "default",
   "language": "python",
   "name": "python3"
  },
  "language_info": {
   "codemirror_mode": {
    "name": "ipython",
    "version": 3
   },
   "file_extension": ".py",
   "mimetype": "text/x-python",
   "name": "python",
   "nbconvert_exporter": "python",
   "pygments_lexer": "ipython3",
   "version": "3.10.6"
  },
  "orig_nbformat": 4,
  "vscode": {
   "interpreter": {
    "hash": "3fd9bb179558f52c0fd35b67e8bb6d5d0ecd33ead53ba97d5f52ce04240a2830"
   }
  }
 },
 "nbformat": 4,
 "nbformat_minor": 2
}
