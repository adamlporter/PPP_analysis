{
 "cells": [
  {
   "cell_type": "markdown",
   "metadata": {},
   "source": [
    "This notebook explores the PPP data from https://data.sba.gov/dataset/ppp-foia/resource/6dd520ff-c211-404f-b7eb-29784cd4dbda?inner_span=True.\n",
    "\n",
    "The goal is to see how PPP disbursements compared to the number of US religious congs from the US religious census: https://www.usreligioncensus.org/, with a special focus on whether black church congregrations didn't benefit from the PPP program as much as other groups.\n",
    "\n",
    "One major difficulty in this analysis is that the Census and PPP data use different names for the groups. The PPE uses individual congregrations by their legal (TBA) names, but the Census uses scholarly / official names, which can be different. For example, the Census identifies five groups as \"Anglican\":\n",
    "    Anglican Catholic Church\n",
    "    Anglican Church in America\n",
    "    Anglican Church in North America\n",
    "    Anglican Province of America\n",
    "    Anglican Province of Christ the King\n",
    " \n",
    "The \"Anglican Church in NA\" has the most congregrations (873), while the other four have a total of less than 200. None of these report the number of adherents. But most \"Anglican\" churches names don't use these names. To which group does \"St. Paul's Anglican Church\" belong? The PPP data doesn't allow us to determine this.\n",
    "\n",
    "Similarly, the Census has data about different Jewish groups (\"Reform Judaism\", \"Conservative Judaism\"), but many synagogues don't use these terms in their names: is \"Temple Israel\" a reform, conservative, or some other branch of Judaism?\n",
    "\n",
    "In this analysis, I have endeavored to address these issues and while there are doubtless errors, I think the overall conclusions are correct.\n"
   ]
  },
  {
   "cell_type": "code",
   "execution_count": 1,
   "metadata": {},
   "outputs": [],
   "source": [
    "import pandas as pd\n",
    "pd.options.display.max_colwidth = 400\n",
    "pd.options.display.max_columns = 90"
   ]
  },
  {
   "cell_type": "code",
   "execution_count": 2,
   "metadata": {},
   "outputs": [
    {
     "name": "stdout",
     "output_type": "stream",
     "text": [
      "/home/alp/Google Drive/Python/analysis/PPEdata/public_up_to_150k_10_220930.csv\n",
      "/home/alp/Google Drive/Python/analysis/PPEdata/public_up_to_150k_11_220930.csv\n",
      "/home/alp/Google Drive/Python/analysis/PPEdata/public_up_to_150k_12_220930.csv\n",
      "/home/alp/Google Drive/Python/analysis/PPEdata/public_up_to_150k_1_220930.csv\n",
      "/home/alp/Google Drive/Python/analysis/PPEdata/public_up_to_150k_2_220930.csv\n",
      "/home/alp/Google Drive/Python/analysis/PPEdata/public_up_to_150k_3_220930.csv\n",
      "/home/alp/Google Drive/Python/analysis/PPEdata/public_up_to_150k_4_220930.csv\n",
      "/home/alp/Google Drive/Python/analysis/PPEdata/public_up_to_150k_5_220930.csv\n",
      "/home/alp/Google Drive/Python/analysis/PPEdata/public_up_to_150k_6_220930.csv\n",
      "/home/alp/Google Drive/Python/analysis/PPEdata/public_up_to_150k_7_220930.csv\n",
      "/home/alp/Google Drive/Python/analysis/PPEdata/public_up_to_150k_8_220930.csv\n",
      "/home/alp/Google Drive/Python/analysis/PPEdata/public_up_to_150k_9_220930.csv\n",
      "<class 'pandas.core.frame.DataFrame'>\n",
      "Int64Index: 11468438 entries, 0 to 899999\n",
      "Data columns (total 10 columns):\n",
      " #   Column                 Dtype  \n",
      "---  ------                 -----  \n",
      " 0   BorrowerName           object \n",
      " 1   BorrowerState          object \n",
      " 2   BorrowerZip            object \n",
      " 3   CurrentApprovalAmount  float64\n",
      " 4   JobsReported           float64\n",
      " 5   NAICSCode              float64\n",
      " 6   Race                   object \n",
      " 7   Ethnicity              object \n",
      " 8   BusinessType           object \n",
      " 9   ForgivenessAmount      float64\n",
      "dtypes: float64(4), object(6)\n",
      "memory usage: 962.5+ MB\n"
     ]
    }
   ],
   "source": [
    "import glob\n",
    "workDir = '/home/alp/Google Drive/Python/analysis/PPEdata/'\n",
    "\n",
    "file_names = sorted(glob.glob(workDir+'public_up_to*.csv'))\n",
    "firstFile = 'public_150k_plus_220930.csv'\n",
    "\n",
    "colList = ['BorrowerName','BorrowerState','BorrowerZip','CurrentApprovalAmount','JobsReported','NAICSCode','Race','Ethnicity','BusinessType','ForgivenessAmount']\n",
    "\n",
    "df = pd.read_csv(workDir+firstFile, usecols = colList)\n",
    "\n",
    "for file in file_names:\n",
    "    oldDF = df\n",
    "    print(file)\n",
    "    if firstFile not in file:\n",
    "        newDF = pd.read_csv(file, usecols = colList)\n",
    "        df = pd.concat([oldDF,newDF])\n",
    "\n",
    "df.info()        "
   ]
  },
  {
   "cell_type": "code",
   "execution_count": 3,
   "metadata": {},
   "outputs": [
    {
     "name": "stdout",
     "output_type": "stream",
     "text": [
      "number of records in the dataframe is 11,468,438\n"
     ]
    }
   ],
   "source": [
    "print(f'number of records in the dataframe is {len(df):,}')"
   ]
  },
  {
   "cell_type": "markdown",
   "metadata": {},
   "source": [
    "How to separate out the religious organizations? \n",
    "\n",
    "The PPP incldues a field for NAICS codes. 813110 is the NAICS code for religious organizations -- https://www.census.gov/naics/?input=813110&year=2022&details=813110:\n",
    "```\n",
    "    \"This industry comprises (1) establishments primarily engaged in operating religious organizations, such as churches, religious temples, mosques, and monasteries, and/or (2) establishments primarily engaged in administering an organized religion or promoting religious activities.\"\n",
    "```"
   ]
  },
  {
   "cell_type": "code",
   "execution_count": 4,
   "metadata": {},
   "outputs": [
    {
     "name": "stdout",
     "output_type": "stream",
     "text": [
      "pct of records disbursed to religious organizations:\n"
     ]
    },
    {
     "data": {
      "text/plain": [
       "1.0695964001374905"
      ]
     },
     "execution_count": 4,
     "metadata": {},
     "output_type": "execute_result"
    }
   ],
   "source": [
    "print('pct of records disbursed to religious organizations:')\n",
    "len(df[df['NAICSCode'] == 813110])/len(df)*100"
   ]
  },
  {
   "cell_type": "markdown",
   "metadata": {},
   "source": [
    "We will create a new DF just for religious organizations and clean it a bit."
   ]
  },
  {
   "cell_type": "code",
   "execution_count": 5,
   "metadata": {},
   "outputs": [
    {
     "data": {
      "text/plain": [
       "122666"
      ]
     },
     "execution_count": 5,
     "metadata": {},
     "output_type": "execute_result"
    }
   ],
   "source": [
    "rel_df  = df[df['NAICSCode'] == 813110]\n",
    "len(rel_df)"
   ]
  },
  {
   "cell_type": "code",
   "execution_count": 6,
   "metadata": {},
   "outputs": [
    {
     "data": {
      "text/plain": [
       "2"
      ]
     },
     "execution_count": 6,
     "metadata": {},
     "output_type": "execute_result"
    }
   ],
   "source": [
    "rel_df['BorrowerName'].isna().sum()"
   ]
  },
  {
   "cell_type": "code",
   "execution_count": 7,
   "metadata": {},
   "outputs": [],
   "source": [
    "rel_df = rel_df.dropna(subset = ['BorrowerName'])"
   ]
  },
  {
   "cell_type": "markdown",
   "metadata": {},
   "source": [
    "The PPP records a wide variety of different types of business, even among the religious organizations. It's hard to know if some of these should be excluded from the analysis (especially since there have been news reports of folks scamming the PPP system __[NBC](https://www.nbcnews.com/politics/justice-department/biggest-fraud-generation-looting-covid-relief-program-known-ppp-n1279664)__ and __[NPR](https://www.npr.org/2022/10/12/1128207464/ppp-loans-loan-forgiveness-small-business)__. But since I have no way of determining if any of the loans reported in the PPP database are fraudulent or if some categories (such as \"Sole Proprietorship\") might have higher rates of fraud than others (such as \"Corporation\"), I will retain all of them for this analysis."
   ]
  },
  {
   "cell_type": "code",
   "execution_count": 8,
   "metadata": {},
   "outputs": [
    {
     "data": {
      "text/plain": [
       "Non-Profit Organization                95301\n",
       "Corporation                            10458\n",
       "Professional Association                4276\n",
       "501(c)3 – Non Profit                    3833\n",
       "Sole Proprietorship                     3177\n",
       "Limited  Liability Company(LLC)         1520\n",
       "Self-Employed Individuals               1138\n",
       "Independent Contractors                 1081\n",
       "Subchapter S Corporation                 694\n",
       "Non-Profit Childcare Center              314\n",
       "Partnership                              213\n",
       "Cooperative                              127\n",
       "501(c)6 – Non Profit Membership          125\n",
       "Trust                                    105\n",
       "Single Member LLC                         32\n",
       "Limited Liability Partnership             27\n",
       "Employee Stock Ownership Plan(ESOP)       16\n",
       "Joint Venture                              9\n",
       "501(c)19 – Non Profit Veterans             8\n",
       "501(c) – Non Profit except 3,4,6,          3\n",
       "Qualified Joint-Venture (spouses)          3\n",
       "Tenant in Common                           2\n",
       "Rollover as Business Start-Ups (ROB        1\n",
       "Tribal Concerns                            1\n",
       "Name: BusinessType, dtype: int64"
      ]
     },
     "execution_count": 8,
     "metadata": {},
     "output_type": "execute_result"
    }
   ],
   "source": [
    "rel_df['BusinessType'].value_counts()"
   ]
  },
  {
   "cell_type": "markdown",
   "metadata": {},
   "source": [
    "Now, let's create a subset df that extracts just the religious organizations that are among the family of churchs that are traditional black churches. \n",
    "\n",
    "According to Frontline(https://www.pbs.org/wgbh/americanexperience/features/godinamerica-black-church/):\n",
    "```\n",
    "Today \"the black church\" is widely understood to include the following seven major black Protestant denominations: \n",
    "    the National Baptist Convention, \n",
    "    the National Baptist Convention of America, \n",
    "    the Progressive National Convention, \n",
    "    the African Methodist Episcopal Church, \n",
    "    the African Methodist Episcopal Zion Church, \n",
    "    the Christian Methodist Episcopal Church and\n",
    "    the Church of God in Christ.\n",
    "```\n",
    "So let's look for those seven denoms."
   ]
  },
  {
   "cell_type": "code",
   "execution_count": 9,
   "metadata": {},
   "outputs": [
    {
     "data": {
      "text/plain": [
       "552"
      ]
     },
     "execution_count": 9,
     "metadata": {},
     "output_type": "execute_result"
    }
   ],
   "source": [
    "bc_fam = rel_df[rel_df['BorrowerName'].str.contains('NATIONAL BAPTIST | PROGRESSIVE NATIONAL | AFRICAN METHODIST | METHODIST EPISCOPAL | CHURCH OF GOD IN CHRIST')\n",
    "                        ]\n",
    "len(bc_fam)"
   ]
  },
  {
   "cell_type": "code",
   "execution_count": 10,
   "metadata": {},
   "outputs": [
    {
     "data": {
      "text/plain": [
       "0.4500097828213657"
      ]
     },
     "execution_count": 10,
     "metadata": {},
     "output_type": "execute_result"
    }
   ],
   "source": [
    "# percent of religion loans represted by BC fam churches:\n",
    "len(bc_fam)/len(rel_df)*100"
   ]
  },
  {
   "cell_type": "markdown",
   "metadata": {},
   "source": [
    "In the PPE data, 122,664 loans were provided to religious organizations.\n",
    "\n",
    "Of this, 552 were provided to congs that may be one of the seven historic BCs. \n",
    "This is 0.45% of the total. \n",
    "\n",
    "But in the Census, the 7 BC families comprise about 3.77% of all congregrations in the USA.\n",
    "\n",
    "There maybe innoculous explainations for this disparity (perhaps the BCs have smaller staffs or unpaid ministers) but at least part of the explanation must be the difficulty of applying for PPO funds. To do so required some familarity with the banking industry, legal knowledge helped, etc.\n",
    "\n",
    "As a check on this, let's examine the data for the Episcopal Church, Hindu, and Jewish groups. These groups have higher-than-average education and income levels; see the __[PEW religious landscape survey](https://www.pewresearch.org/religion/religious-landscape-study/)__ data for information about this. What percent of the national group do they represent? Did they get this amount from the PPO pool or a higher number?\n",
    "\n",
    "We will start by creating dataframes for the three other groups and then examining how many loans they received."
   ]
  },
  {
   "cell_type": "code",
   "execution_count": 11,
   "metadata": {},
   "outputs": [],
   "source": [
    "j_fam = rel_df[(rel_df['BorrowerName'].str.contains('SYNAGOGUE | JEWISH | ISRAEL')) \n",
    "                        ]"
   ]
  },
  {
   "cell_type": "code",
   "execution_count": 14,
   "metadata": {},
   "outputs": [],
   "source": [
    "episcop = rel_df[rel_df['BorrowerName'].str.contains('EPISCOPAL | ANGLICAN' )] \n",
    "# but this will pick up the AMEZ church, so we need to delete those rows\n",
    "\n",
    "episcop = episcop.drop( episcop[episcop['BorrowerName'].str.contains('AFRICAN METHODIST')].index)"
   ]
  },
  {
   "cell_type": "code",
   "execution_count": 15,
   "metadata": {},
   "outputs": [],
   "source": [
    "hindu = rel_df[rel_df['BorrowerName'].str.contains('HINDU | YOGA')]"
   ]
  },
  {
   "cell_type": "code",
   "execution_count": 16,
   "metadata": {},
   "outputs": [
    {
     "name": "stdout",
     "output_type": "stream",
     "text": [
      "Number of PPE loans disbursed to Jewish congs: 1034\n",
      "Pct of religion loans made to J congs: 0.84\n",
      "Number of PPE loans disbursed to Episcopal congs: 3034\n",
      "Pct of religion loans made to E congs: 2.47\n",
      "Number of PPE loans disbursed to Hindu congs: 182\n",
      "Pct of religion loans made to H congs: 0.15\n"
     ]
    }
   ],
   "source": [
    "print(f'Number of PPE loans disbursed to Jewish congs: {len(j_fam)}')\n",
    "print(f'Pct of religion loans made to J congs: {len(j_fam)/len(rel_df)*100:.2f}')\n",
    "print(f'Number of PPE loans disbursed to Episcopal congs: {len(episcop)}')\n",
    "print(f'Pct of religion loans made to E congs: {len(episcop)/len(rel_df)*100:.2f}')\n",
    "print(f'Number of PPE loans disbursed to Hindu congs: {len(hindu)}')\n",
    "print(f'Pct of religion loans made to H congs: {len(hindu)/len(rel_df)*100:.2f}')"
   ]
  },
  {
   "cell_type": "markdown",
   "metadata": {},
   "source": [
    "Summary:\n",
    "\n",
    "| Relig group/fam | N PPP loans | Pct PPP loans | Pct All US cong | N loans if proportional |\n",
    "| --- | --: | --: | --: | --: |\n",
    "| Black Church | 552 | 0.45 | 3.77 | 4624 |\n",
    "| Jewish | 1034 | 0.84 | 0.66 | 809 |\n",
    "| Episcopal | 3034 | 2.47 | 2.03 | 3594 |\n",
    "| Hindu | 182 | 0.15 | 0.51 | 625 |\n",
    "\n",
    "This suggests that\n",
    "- Episcopal groups received *fewer* PPP loans than would be proportional to their number in the Census (roughly -15%).\n",
    "- Jewish groups recevied *more* loans than would be proportional (+28%).\n",
    "- Hindu groups received *many fewer* loans than would be proportional (-71%).\n",
    "- Black churches reeived *many fewer* loans that would be proportional (-88%). \n",
    "\n",
    "But perhaps there is a difference in the\n",
    "1. the size of the congregrations?\n",
    "1. the number of jobs at risk?\n",
    "1. the amount of the loans?\n",
    "\n",
    "Data for the first can be found in the Census:\n",
    "| Relig group/fam | N congs | N Adherents | Adh per Cong |\n",
    "| --- | --: | --: | --: |\n",
    "| Black Church | 13,457 | 4,602,235 | 342 |\n",
    "| Jewish | 2,353 | 2,068,827 | 879 \n",
    "| Episcopal | 7,226 | 1,576,611 | 218 |\n",
    "| Hindu | 1,811 | 1,276,444 | 704 |\n",
    "\n",
    "This shows that the average size of Episcopal congregrations is the smallest of the four groups, followed by Black churchs. Hindu and Jewish congregrations are considerably larger.\n",
    "\n",
    "Let's look at the latter two questions:"
   ]
  },
  {
   "cell_type": "code",
   "execution_count": 17,
   "metadata": {},
   "outputs": [
    {
     "name": "stdout",
     "output_type": "stream",
     "text": [
      "    Cong Family  Total N Loans     Total Jobs  Jobs per loan    Total $ Forgiven    Forgive per Cong     Forgive per Job    Forgive per loan\n",
      "   Black church            552           3664            664       16,732,818.05           30,313.08            4,566.82           30,313.08\n",
      "   Jewish congs           1034          20417          1,975      127,480,884.81          123,289.06            6,243.86          123,289.06  \n",
      "      Episcopal           3034          28726            947      178,483,856.39           42,017.43            6,213.32           42,017.43  \n",
      "    Hindu congs            182           1014            557        6,582,358.67           36,166.81            6,491.48          700,444.42  \n"
     ]
    }
   ],
   "source": [
    "totBC, totJ, totE, totH = bc_fam['JobsReported'].sum(), j_fam['JobsReported'].sum(), episcop['JobsReported'].sum(),hindu['JobsReported'].sum()\n",
    "totBCfg, totJfg, totEfg, totHfg = bc_fam['ForgivenessAmount'].sum(), j_fam['ForgivenessAmount'].sum(), episcop['ForgivenessAmount'].sum(),hindu['ForgivenessAmount'].sum()\n",
    "print(f'{\"Cong Family\":>15}{\"Total N Loans\":>15}{\"Total Jobs\":>15}{\"Jobs per loan\":>15}{\"Total $ Forgiven\":>20}{\"Forgive per Cong\":>20}{\"Forgive per Job\":>20}{\"Forgive per loan\":>20}')\n",
    "print(f'{\"Black church\":>15}{len(bc_fam):>15n}{totBC:>15n}{(totBC/len(bc_fam)*100):>15,.0f}{totBCfg:>20,.2f}{(totBCfg/len(bc_fam)):>20,.2f}{(totBCfg/totBC):>20,.2f}{(totBCfg/len(bc_fam)):>20,.2f}')\n",
    "print(f'{\"Jewish congs\":>15}{len(j_fam):>15n}{totJ:>15n}{(totJ/len(j_fam)*100):>15,.0f}{totJfg:>20,.2f}{(totJfg/len(j_fam)):>20,.2f}{(totJfg/totJ):>20,.2f}{(totJfg/len(j_fam)):>20,.2f}  ')\n",
    "print(f'{\"Episcopal\":>15}{len(episcop):>15n}{totE:>15n}{(totE/len(episcop)*100):>15,.0f}{totEfg:>20,.2f}{(totJfg/len(episcop)):>20,.2f}{(totEfg/totE):>20,.2f}{(totJfg/len(episcop)):>20,.2f}  ')\n",
    "print(f'{\"Hindu congs\":>15}{len(hindu):>15n}{totH:>15n}{(totH/len(hindu)*100):>15,.0f}{totHfg:>20,.2f}{(totHfg/len(hindu)):>20,.2f}{(totHfg/totH):>20,.2f}{(totJfg/len(hindu)):>20,.2f}  ')\n"
   ]
  },
  {
   "cell_type": "markdown",
   "metadata": {},
   "source": [
    "The most interesting column in this table is the amount of `forgiveness provided per job`: there is remarkable similarity between Jewish, Episcopal, and Hindu religious organizations, with an average around $6,300. The amount forgiven to Black churchs is much lower.\n",
    "\n",
    "The rest of the figures vary widely. Jewish and Episcopal groups seem to employ far more people than do the Black church and Hindu organizations and the numbers of people supported per loan reflect this. Since the PPP was mainly designed to support employemnt, it is not surprising that the amount forgiven is correspondingly higher.\n",
    "\n",
    "**To return to the initial question: did black churchs recieve less support from the PPP program as some other groups?**\n",
    "\n",
    "The answer to this is 'yes.' \n",
    "- If black churches had received loans in proportion to their representation in the Census, they would have received around 4,600 loans, rather than 552.\n",
    "- If they received roughly the same amount of money per job, they would have received about $1,750 per job more than they did.\n",
    "\n",
    "This data doesn't allow us to determine *why* Black churches received fewer loans and for smaller amounts."
   ]
  }
 ],
 "metadata": {
  "kernelspec": {
   "display_name": "Python 3.10.6 64-bit",
   "language": "python",
   "name": "python3"
  },
  "language_info": {
   "codemirror_mode": {
    "name": "ipython",
    "version": 3
   },
   "file_extension": ".py",
   "mimetype": "text/x-python",
   "name": "python",
   "nbconvert_exporter": "python",
   "pygments_lexer": "ipython3",
   "version": "3.10.6"
  },
  "orig_nbformat": 4,
  "vscode": {
   "interpreter": {
    "hash": "916dbcbb3f70747c44a77c7bcd40155683ae19c65e1c03b4aa3499c5328201f1"
   }
  }
 },
 "nbformat": 4,
 "nbformat_minor": 2
}
